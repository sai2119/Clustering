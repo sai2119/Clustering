{
  "nbformat": 4,
  "nbformat_minor": 0,
  "metadata": {
    "colab": {
      "name": "assinment1.ipynb",
      "provenance": [],
      "authorship_tag": "ABX9TyNScc7xNw87+s3vv0XFyvIB",
      "include_colab_link": true
    },
    "kernelspec": {
      "name": "python3",
      "display_name": "Python 3"
    }
  },
  "cells": [
    {
      "cell_type": "markdown",
      "metadata": {
        "id": "view-in-github",
        "colab_type": "text"
      },
      "source": [
        "<a href=\"https://colab.research.google.com/github/sai2119/Clustering/blob/master/assinment1.ipynb\" target=\"_parent\"><img src=\"https://colab.research.google.com/assets/colab-badge.svg\" alt=\"Open In Colab\"/></a>"
      ]
    },
    {
      "cell_type": "markdown",
      "metadata": {
        "id": "pFeputiJI6T0",
        "colab_type": "text"
      },
      "source": [
        "## Task 1"
      ]
    },
    {
      "cell_type": "markdown",
      "metadata": {
        "id": "n1nzoEAergg8",
        "colab_type": "text"
      },
      "source": [
        "1.\n",
        "Install Jupyter notebook and run the first program and share the screenshot of the output"
      ]
    },
    {
      "cell_type": "markdown",
      "metadata": {
        "id": "Tv5akSqwrbCB",
        "colab_type": "text"
      },
      "source": [
        "(https://https://drive.google.com/file/d/1K6awWJMEItL-TFLyhP4zkfANwyWfNBYO/view?usp=sharing))"
      ]
    },
    {
      "cell_type": "markdown",
      "metadata": {
        "id": "bZOW5rdDrLaq",
        "colab_type": "text"
      },
      "source": [
        "2.\n",
        "Write a program which will find all such numbers which are divisible by 7 but are not a multiple\n",
        "of 5, between 2000 and 3200 (both included). The numbers obtained should be printed in a\n",
        "comma-separated sequence on a single line.\n"
      ]
    },
    {
      "cell_type": "code",
      "metadata": {
        "id": "9JaAz-cC_vFL",
        "colab_type": "code",
        "outputId": "42778a6d-1c58-4d2d-c630-4e6fdd67a2c8",
        "colab": {
          "base_uri": "https://localhost:8080/",
          "height": 53
        }
      },
      "source": [
        "# number is a list here \n",
        "number=[]\n",
        "# we need inculde 2000 to 3200\n",
        "for x in range(2000, 3201):\n",
        "    #this condition gives number diveded by 7 and not divided by 5\n",
        "    if (x%7==0) and not(x%5==0):\n",
        "        # append to number\n",
        "        number.append(str(x))\n",
        "Number_divisble_by_7_not_5= number\n",
        "print(Number_divisble_by_7_not_5)"
      ],
      "execution_count": 21,
      "outputs": [
        {
          "output_type": "stream",
          "text": [
            "['2002', '2009', '2016', '2023', '2037', '2044', '2051', '2058', '2072', '2079', '2086', '2093', '2107', '2114', '2121', '2128', '2142', '2149', '2156', '2163', '2177', '2184', '2191', '2198', '2212', '2219', '2226', '2233', '2247', '2254', '2261', '2268', '2282', '2289', '2296', '2303', '2317', '2324', '2331', '2338', '2352', '2359', '2366', '2373', '2387', '2394', '2401', '2408', '2422', '2429', '2436', '2443', '2457', '2464', '2471', '2478', '2492', '2499', '2506', '2513', '2527', '2534', '2541', '2548', '2562', '2569', '2576', '2583', '2597', '2604', '2611', '2618', '2632', '2639', '2646', '2653', '2667', '2674', '2681', '2688', '2702', '2709', '2716', '2723', '2737', '2744', '2751', '2758', '2772', '2779', '2786', '2793', '2807', '2814', '2821', '2828', '2842', '2849', '2856', '2863', '2877', '2884', '2891', '2898', '2912', '2919', '2926', '2933', '2947', '2954', '2961', '2968', '2982', '2989', '2996', '3003', '3017', '3024', '3031', '3038', '3052', '3059', '3066', '3073', '3087', '3094', '3101', '3108', '3122', '3129', '3136', '3143', '3157', '3164', '3171', '3178', '3192', '3199']\n"
          ],
          "name": "stdout"
        }
      ]
    },
    {
      "cell_type": "markdown",
      "metadata": {
        "id": "MrxkG-IFDYzI",
        "colab_type": "text"
      },
      "source": [
        "3.\n",
        "Write a Python program to accept the user's first and last name and then getting them printed in\n",
        "the the reverse order with a space between first name and last name.\n"
      ]
    },
    {
      "cell_type": "code",
      "metadata": {
        "id": "uylLOSVKA2pc",
        "colab_type": "code",
        "colab": {
          "base_uri": "https://localhost:8080/",
          "height": 67
        },
        "outputId": "44c465b2-2e82-4afa-c3f9-b23d42473ae4"
      },
      "source": [
        "# Asking first name and last name\n",
        "a=input(\"Enter your First Name: \")\n",
        "b=input(\"Enter your last Name: \")\n",
        "#printed in the the reverse order with a space between first name and last name.\n",
        "print(\"reverse order with a space between first name and last name: \" ,b+\" \",a)"
      ],
      "execution_count": 23,
      "outputs": [
        {
          "output_type": "stream",
          "text": [
            "Enter your First Name: a\n",
            "Enter your last Name: b\n",
            "reverse order with a space between first name and last name:  b  a\n"
          ],
          "name": "stdout"
        }
      ]
    },
    {
      "cell_type": "markdown",
      "metadata": {
        "id": "rCtW0KZQFS0V",
        "colab_type": "text"
      },
      "source": [
        "4.\n",
        "Write a Python program to find the volume of a sphere with diameter 12 cm.\n",
        "Formula: V=4/3 * π * r\n",
        "3"
      ]
    },
    {
      "cell_type": "code",
      "metadata": {
        "id": "UZ-u-AVxEvdj",
        "colab_type": "code",
        "colab": {
          "base_uri": "https://localhost:8080/",
          "height": 50
        },
        "outputId": "f359f601-395d-45fd-f4c3-6c1139779e1b"
      },
      "source": [
        "import math\n",
        "a = int(input(\"Enter the diameter: \"))\n",
        "radius = a/2 \n",
        "pi = math.pi\n",
        "volume = 4.0/3.0*pi*radius**3\n",
        "print(\"volume of a sphere\",volume)\n",
        "\n",
        "\n"
      ],
      "execution_count": 29,
      "outputs": [
        {
          "output_type": "stream",
          "text": [
            "Enter the diameter: 12\n",
            "volume of a sphere 904.7786842338603\n"
          ],
          "name": "stdout"
        }
      ]
    },
    {
      "cell_type": "markdown",
      "metadata": {
        "id": "_UpNVVIyI1tI",
        "colab_type": "text"
      },
      "source": [
        "## Task 2"
      ]
    },
    {
      "cell_type": "markdown",
      "metadata": {
        "id": "QB4HRrfNJGE0",
        "colab_type": "text"
      },
      "source": [
        "1.\n",
        "Write a program which accepts a sequence of comma-separated numbers from console and\n",
        "generate a list."
      ]
    },
    {
      "cell_type": "code",
      "metadata": {
        "id": "69aJWqsXGjta",
        "colab_type": "code",
        "colab": {
          "base_uri": "https://localhost:8080/",
          "height": 50
        },
        "outputId": "8b42ae77-5778-4018-c09c-d72f87f479ed"
      },
      "source": [
        "# excpecting values\n",
        "value = str(input(\"enter the comma separated number : \"))\n",
        "# spliting the numbers\n",
        "list_name = value.split(',')\n",
        "# type casting \n",
        "list_name = list(list_name)\n",
        "\n",
        "# printing the list\n",
        "print(list_name)"
      ],
      "execution_count": 33,
      "outputs": [
        {
          "output_type": "stream",
          "text": [
            "enter the comma separated number : 10,18,19,157,1956,1852,18745,1523,185\n",
            "['10', '18', '19', '157', '1956', '1852', '18745', '1523', '185']\n"
          ],
          "name": "stdout"
        }
      ]
    },
    {
      "cell_type": "markdown",
      "metadata": {
        "id": "B8NEeaE_OcQI",
        "colab_type": "text"
      },
      "source": [
        "2.\n",
        "Create the below pattern using nested for loop in Python.\n",
        "\n",
        "\n",
        "\n",
        "\n"
      ]
    },
    {
      "cell_type": "code",
      "metadata": {
        "id": "BQsDiPNINp2s",
        "colab_type": "code",
        "colab": {
          "base_uri": "https://localhost:8080/",
          "height": 351
        },
        "outputId": "b6c7290b-5a2a-4dd8-bc11-1a699c0a7113"
      },
      "source": [
        "\n",
        "for a in range(10):\n",
        "    for x in range(a):\n",
        "        print ('* ', end=\"\")\n",
        "    print('')\n",
        "\n",
        "for a in range(10,0,-1):\n",
        "    for x in range(a):\n",
        "        print('* ', end=\"\")\n",
        "    print('')"
      ],
      "execution_count": 50,
      "outputs": [
        {
          "output_type": "stream",
          "text": [
            "\n",
            "* \n",
            "* * \n",
            "* * * \n",
            "* * * * \n",
            "* * * * * \n",
            "* * * * * * \n",
            "* * * * * * * \n",
            "* * * * * * * * \n",
            "* * * * * * * * * \n",
            "* * * * * * * * * * \n",
            "* * * * * * * * * \n",
            "* * * * * * * * \n",
            "* * * * * * * \n",
            "* * * * * * \n",
            "* * * * * \n",
            "* * * * \n",
            "* * * \n",
            "* * \n",
            "* \n"
          ],
          "name": "stdout"
        }
      ]
    },
    {
      "cell_type": "markdown",
      "metadata": {
        "id": "mb07WA0pUqxF",
        "colab_type": "text"
      },
      "source": [
        "3.\n",
        "Write a Python program to reverse a word after accepting the input from the user.\n"
      ]
    },
    {
      "cell_type": "code",
      "metadata": {
        "id": "qbX2nbTbPygX",
        "colab_type": "code",
        "colab": {
          "base_uri": "https://localhost:8080/",
          "height": 67
        },
        "outputId": "6e78aa3e-3377-4370-c3e7-e69551bd96e0"
      },
      "source": [
        "word = input(\"Enter your Word: \")\n",
        "print(word)\n",
        "word =word[::-1]\n",
        "print (word)"
      ],
      "execution_count": 62,
      "outputs": [
        {
          "output_type": "stream",
          "text": [
            "Enter your Word: sdlndljfsndcs\n",
            "sdlndljfsndcs\n",
            "scdnsfjldnlds\n"
          ],
          "name": "stdout"
        }
      ]
    },
    {
      "cell_type": "markdown",
      "metadata": {
        "id": "zX_Fd_w0X2Zg",
        "colab_type": "text"
      },
      "source": [
        "4.\n",
        "Write a Python Program to print the given string in the format specified in the sample output.\n",
        "WE, THE PEOPLE OF INDIA, having solemnly resolved to constitute India into a\n",
        "SOVEREIGN, SOCIALIST, SECULAR, DEMOCRATIC REPUBLIC and to secure to all\n",
        "its citizens\n",
        "Sample Output:\n",
        "WE, THE PEOPLE OF INDIA,\n",
        "having solemnly resolved to constitute India into a SOVEREIGN, !\n",
        "SOCIALIST, SECULAR, DEMOCRATIC REPUBLIC\n",
        "and to secure to all its citizens"
      ]
    },
    {
      "cell_type": "code",
      "metadata": {
        "id": "nObCbO3mX0Aa",
        "colab_type": "code",
        "colab": {
          "base_uri": "https://localhost:8080/",
          "height": 84
        },
        "outputId": "aaf69e58-196c-4385-ab93-8deea851e5c5"
      },
      "source": [
        "print(\"WE, THE PEOPLE OF INDIA,\\n\\thaving solemnly resolved to constitute India into a SOVEREIGN,! \\n\\t\\tSOCIALIST, SECULAR, DEMOCRATIC REPUBLIC \\n\\t\\t and to secure to all its citizens\")"
      ],
      "execution_count": 65,
      "outputs": [
        {
          "output_type": "stream",
          "text": [
            "WE, THE PEOPLE OF INDIA,\n",
            "\thaving solemnly resolved to constitute India into a SOVEREIGN,! \n",
            "\t\tSOCIALIST, SECULAR, DEMOCRATIC REPUBLIC \n",
            "\t\t and to secure to all its citizens\n"
          ],
          "name": "stdout"
        }
      ]
    }
  ]
}